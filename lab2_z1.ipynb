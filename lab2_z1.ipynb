{
  "nbformat": 4,
  "nbformat_minor": 0,
  "metadata": {
    "colab": {
      "provenance": [],
      "authorship_tag": "ABX9TyNmMZSdq5SEL6UUaK8HVy+E",
      "include_colab_link": true
    },
    "kernelspec": {
      "name": "python3",
      "display_name": "Python 3"
    },
    "language_info": {
      "name": "python"
    }
  },
  "cells": [
    {
      "cell_type": "markdown",
      "metadata": {
        "id": "view-in-github",
        "colab_type": "text"
      },
      "source": [
        "<a href=\"https://colab.research.google.com/github/arcz99/Programming2/blob/master/lab2_z1.ipynb\" target=\"_parent\"><img src=\"https://colab.research.google.com/assets/colab-badge.svg\" alt=\"Open In Colab\"/></a>"
      ]
    },
    {
      "cell_type": "code",
      "execution_count": 1,
      "metadata": {
        "colab": {
          "base_uri": "https://localhost:8080/"
        },
        "id": "zH3dWOhm5NaC",
        "outputId": "a31ce27f-220a-4d93-e2a7-df566f7c9731"
      },
      "outputs": [
        {
          "output_type": "stream",
          "name": "stdout",
          "text": [
            " 'Lalka' Prus 1890\n",
            " 'Lalka' Prus 2020 Plik ma rozmiar 40\n",
            " 'Lalka' Prus 2017 Czas trwania : 540\n"
          ]
        }
      ],
      "source": [
        "class Ksiazka:\n",
        "    def __init__(self, tytul, autor, rok_wydania):\n",
        "        self.tytul = tytul\n",
        "        self.autor = autor\n",
        "        self.rok_wydania = rok_wydania\n",
        "    def opis(self):\n",
        "        return f\" '{self.tytul}' {self.autor} {self.rok_wydania}\"\n",
        "\n",
        "class Ebook(Ksiazka):\n",
        "    def __init__(self, tytul, autor, rok_wydania, rozmiar_pliku):\n",
        "        super().__init__(tytul, autor, rok_wydania)\n",
        "        self.rozmiar_pliku = rozmiar_pliku\n",
        "    def opis(self):\n",
        "        return f\"{super().opis()} Plik ma rozmiar {self.rozmiar_pliku}\"\n",
        "\n",
        "\n",
        "class Audiobook(Ksiazka):\n",
        "    def __init__(self, tytul, autor, rok_wydania, czas_trwania):\n",
        "        super().__init__(tytul, autor, rok_wydania)\n",
        "        self.czas_trwania = czas_trwania\n",
        "    def opis(self):\n",
        "        return f\"{super().opis()} Czas trwania : {self.czas_trwania}\"\n",
        "\n",
        "\n",
        "\n",
        "ksiazka1 = Ksiazka(\"Lalka\", \"Prus\", \"1890\")\n",
        "\n",
        "ebook1 = Ebook(\"Lalka\", \"Prus\", \"2020\", 40)\n",
        "\n",
        "audiobook = Audiobook(\"Lalka\", \"Prus\", \"2017\", 540)\n",
        "\n",
        "\n",
        "\n",
        "print(ksiazka1.opis())\n",
        "print(ebook1.opis())\n",
        "print(audiobook.opis())"
      ]
    }
  ]
}